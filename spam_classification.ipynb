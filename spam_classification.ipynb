{
  "nbformat": 4,
  "nbformat_minor": 0,
  "metadata": {
    "colab": {
      "name": "spam_classification.ipynb",
      "version": "0.3.2",
      "provenance": [],
      "collapsed_sections": [],
      "include_colab_link": true
    },
    "kernelspec": {
      "name": "python3",
      "display_name": "Python 3"
    }
  },
  "cells": [
    {
      "cell_type": "markdown",
      "metadata": {
        "id": "view-in-github",
        "colab_type": "text"
      },
      "source": [
        "<a href=\"https://colab.research.google.com/github/heiniit/Colab/blob/master/spam_classification.ipynb\" target=\"_parent\"><img src=\"https://colab.research.google.com/assets/colab-badge.svg\" alt=\"Open In Colab\"/></a>"
      ]
    },
    {
      "metadata": {
        "id": "wVlH_So9PSY0",
        "colab_type": "text"
      },
      "cell_type": "markdown",
      "source": [
        "# Building a spam detector \n",
        "\n",
        "Just \"Run all\" :)"
      ]
    },
    {
      "metadata": {
        "id": "p3CS8ZjrSJ2n",
        "colab_type": "text"
      },
      "cell_type": "markdown",
      "source": [
        "Load the dataset and do some preprocessing"
      ]
    },
    {
      "metadata": {
        "id": "gbRUcV7ddszb",
        "colab_type": "code",
        "colab": {}
      },
      "cell_type": "code",
      "source": [
        "!wget http://archive.ics.uci.edu/ml/machine-learning-databases/00228/smsspamcollection.zip\n",
        "!unzip smsspamcollection.zip"
      ],
      "execution_count": 0,
      "outputs": []
    },
    {
      "metadata": {
        "colab_type": "code",
        "id": "4KGsca7GiUKg",
        "colab": {}
      },
      "cell_type": "code",
      "source": [
        "import pandas as pd\n",
        "\n",
        "with open(\"SMSSpamCollection\", \"r\") as file:\n",
        "  sms_df = pd.read_csv(file, sep=\"\\t\")\n",
        "sms_df.columns = [\"class\", \"message\"]\n",
        "\n",
        "sms_df[\"class_inx\"] = sms_df.apply(lambda row: int(row[\"class\"] == \"spam\"), axis=1)"
      ],
      "execution_count": 0,
      "outputs": []
    },
    {
      "metadata": {
        "id": "0htSMr8NBigP",
        "colab_type": "text"
      },
      "cell_type": "markdown",
      "source": [
        "Split data to training and test sets"
      ]
    },
    {
      "metadata": {
        "id": "0H06jOHzLFCW",
        "colab_type": "code",
        "colab": {}
      },
      "cell_type": "code",
      "source": [
        "from sklearn.model_selection import train_test_split\n",
        "X_train, X_test, y_train, y_test = train_test_split(sms_df[\"message\"], sms_df[\"class_inx\"], test_size=0.3)"
      ],
      "execution_count": 0,
      "outputs": []
    },
    {
      "metadata": {
        "id": "IoatbkCzHhEK",
        "colab_type": "text"
      },
      "cell_type": "markdown",
      "source": [
        "Build the model..."
      ]
    },
    {
      "metadata": {
        "id": "aNeMVkp5LjUD",
        "colab_type": "code",
        "outputId": "8148739e-ccd5-4132-8ef7-111f35f289ff",
        "colab": {
          "base_uri": "https://localhost:8080/",
          "height": 34
        }
      },
      "cell_type": "code",
      "source": [
        "from sklearn.feature_extraction.text import TfidfVectorizer\n",
        "from sklearn.naive_bayes import MultinomialNB\n",
        "\n",
        "vectorizer = TfidfVectorizer()\n",
        "train_vectors = vectorizer.fit_transform(X_train).toarray()\n",
        "\n",
        "classifier = MultinomialNB()\n",
        "classifier.fit(train_vectors, y_train)"
      ],
      "execution_count": 4,
      "outputs": [
        {
          "output_type": "execute_result",
          "data": {
            "text/plain": [
              "MultinomialNB(alpha=1.0, class_prior=None, fit_prior=True)"
            ]
          },
          "metadata": {
            "tags": []
          },
          "execution_count": 4
        }
      ]
    },
    {
      "metadata": {
        "id": "vQhO6cPfIAhq",
        "colab_type": "text"
      },
      "cell_type": "markdown",
      "source": [
        "...classify test data..."
      ]
    },
    {
      "metadata": {
        "id": "QVeHrZVJ77t0",
        "colab_type": "code",
        "colab": {}
      },
      "cell_type": "code",
      "source": [
        "test_vectors = vectorizer.transform(X_test).toarray()\n",
        "predicted = classifier.predict(test_vectors)"
      ],
      "execution_count": 0,
      "outputs": []
    },
    {
      "metadata": {
        "id": "wT7yOQWnKtiW",
        "colab_type": "text"
      },
      "cell_type": "markdown",
      "source": [
        "... and compare to true values."
      ]
    },
    {
      "metadata": {
        "id": "jnrEDFQ3Kom2",
        "colab_type": "code",
        "outputId": "f0b871a5-58ae-4422-c7da-ecf23e9ef19d",
        "colab": {
          "base_uri": "https://localhost:8080/",
          "height": 34
        }
      },
      "cell_type": "code",
      "source": [
        "from sklearn.metrics import accuracy_score\n",
        "accuracy_score(y_test.values, predicted)"
      ],
      "execution_count": 6,
      "outputs": [
        {
          "output_type": "execute_result",
          "data": {
            "text/plain": [
              "0.9569377990430622"
            ]
          },
          "metadata": {
            "tags": []
          },
          "execution_count": 6
        }
      ]
    },
    {
      "metadata": {
        "id": "4N6dEuYZNM8j",
        "colab_type": "text"
      },
      "cell_type": "markdown",
      "source": [
        "What to do next?\n",
        "* The classifier is not perfect. Investigate which messages are classified wrong.  \n",
        "* Does removing stop words (TfidfVectorizer stop_words parameter) improve the classification?\n",
        "* The vectorizer is using words by default. Try to use ngrams of different sizes. How does it affect to the result?\n",
        "* Instead of using naive Bayes classifier, try e.g. SVM or neural network classifiers. Which one works best?\n",
        "* Can you tune classifier parameters to get even better accuracy? \n",
        "* Try to classify your own messages. Can you construct messages that are classified wrong?\n",
        "\n"
      ]
    },
    {
      "metadata": {
        "id": "yzMD6sNaUqTY",
        "colab_type": "code",
        "colab": {}
      },
      "cell_type": "code",
      "source": [
        ""
      ],
      "execution_count": 0,
      "outputs": []
    },
    {
      "metadata": {
        "id": "qHX9nOJlWWxO",
        "colab_type": "code",
        "colab": {}
      },
      "cell_type": "code",
      "source": [
        ""
      ],
      "execution_count": 0,
      "outputs": []
    }
  ]
}
